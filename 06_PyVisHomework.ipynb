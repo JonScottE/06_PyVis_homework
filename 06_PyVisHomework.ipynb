{
 "cells": [
  {
   "cell_type": "code",
   "execution_count": null,
   "id": "33f591fe-c5a3-4b7e-ab6f-f19b1569d07a",
   "metadata": {},
   "outputs": [],
   "source": [
    "## 06 - PyVis Homework"
   ]
  },
  {
   "cell_type": "code",
   "execution_count": null,
   "id": "796caec6-e52b-4b78-b3e2-988e181ff8a5",
   "metadata": {
    "tags": []
   },
   "outputs": [],
   "source": [
    "##  San Francisco Rental Prices Dashboard\n"
   ]
  },
  {
   "cell_type": "code",
   "execution_count": null,
   "id": "e1a6dfc9-5aba-4f60-8829-2a1274ee6c19",
   "metadata": {},
   "outputs": [],
   "source": [
    "# imports\n",
    "import panel as pn\n",
    "pn.extension('plotly')\n",
    "import plotly.express as px\n",
    "import pandas as pd\n",
    "import hvplot.pandas\n",
    "import matplotlib.pyplot as plt\n",
    "import os\n",
    "from pathlib import Path\n",
    "from dotenv import load_dotenv"
   ]
  },
  {
   "cell_type": "code",
   "execution_count": null,
   "id": "7eb7da8f-58e0-40fe-b605-b6be1689f2f4",
   "metadata": {},
   "outputs": [],
   "source": []
  },
  {
   "cell_type": "code",
   "execution_count": null,
   "id": "397a8799-ac07-4c93-a439-2fa0153867dd",
   "metadata": {},
   "outputs": [],
   "source": [
    " # Read the Mapbox API key\n",
    "load_dotenv()\n",
    "map_box_api = os.getenv(\"mapbox\")\n",
    "px.set_mapbox_access_token(map_box_api)"
   ]
  },
  {
   "cell_type": "code",
   "execution_count": null,
   "id": "d2e46468-5fcb-436d-a163-faa3af512aaf",
   "metadata": {},
   "outputs": [],
   "source": []
  },
  {
   "cell_type": "code",
   "execution_count": null,
   "id": "175bed23-d17d-4d69-ad5f-663f1c05b5ca",
   "metadata": {},
   "outputs": [],
   "source": [
    " # Import the necessary CSVs to Pandas DataFrames\n",
    "sfo_neighborhoods_data = pd.read_csv(\n",
    "    Path(\"sfo_neighborhoods_census_data.csv\")\n",
    ").dropna()"
   ]
  },
  {
   "cell_type": "code",
   "execution_count": null,
   "id": "0b036d48-8e74-4cfc-a543-e9a728707268",
   "metadata": {},
   "outputs": [],
   "source": [
    "sfo_neighborhoods_data.head()"
   ]
  },
  {
   "cell_type": "code",
   "execution_count": null,
   "id": "89bc0241-ff5f-4093-8f32-7507d835791a",
   "metadata": {},
   "outputs": [],
   "source": []
  },
  {
   "cell_type": "code",
   "execution_count": null,
   "id": "f90346a6-601e-433b-8f13-dd66041c0c4f",
   "metadata": {},
   "outputs": [],
   "source": []
  },
  {
   "cell_type": "code",
   "execution_count": null,
   "id": "dd374bb7-2b1e-433c-9aa5-f4be47bf766d",
   "metadata": {},
   "outputs": [],
   "source": []
  },
  {
   "cell_type": "code",
   "execution_count": null,
   "id": "eaad28ba-9382-417c-8b6c-06488203e8ce",
   "metadata": {},
   "outputs": [],
   "source": [
    "# Define Panel Visualization Functions\n",
    "\n",
    "def housing_units_per_year():\n",
    "    \"\"\"Housing Units Per Year.\"\"\"\n",
    "\n",
    "    \n",
    "housing_units = sfo_neighborhoods_data[\"housing_units\"]\n",
    "housing_units = housing_units.groupby([sfo_neighborhoods_data.index])\n",
    "    \n",
    "housing_units_fig = plt.figure()\n",
    "housing_units_plot = housing_units.plot.bar(x='year', ylim=[370000, 385000], title=\"Average Number of Housing Units Sold per Year\")\n",
    "plt.close(housing_units_fig)\n",
    "    \n",
    "return pn.pane.Matplotlib(housing_units_fig) \n",
    "    \n",
    "    \n"
   ]
  },
  {
   "cell_type": "code",
   "execution_count": null,
   "id": "513354b8-63d6-4f88-8766-b01abfbe9efb",
   "metadata": {},
   "outputs": [],
   "source": []
  },
  {
   "cell_type": "code",
   "execution_count": null,
   "id": "5a7a41b0-d5f1-4de3-a29d-4334511b0449",
   "metadata": {},
   "outputs": [],
   "source": [
    "def average_gross_rent():\n",
    "    \"\"\"Average Gross Rent in San Francisco Per Year.\"\"\"\n",
    "    \n",
    "\n",
    "average_gross_rent = sfo_neighborhoods_data[\"gross_rent\"].groupby([sfo_neighborhoods_data.index]).mean()\n",
    "    \n",
    "gross_rent_fig = plt.figure()\n",
    "average_rent_plot = (average_gross_rent.plot.line(x='year', y='gross_rent', title=\"Average Goss Rent in San Fransisco per Year\"))\n",
    "plt.close(gross_rent_fig)\n",
    "    \n",
    "return pn.pane.Matplotlib(gross_rent_fig)"
   ]
  },
  {
   "cell_type": "code",
   "execution_count": null,
   "id": "32a9542e-e686-4910-81c4-562c8e3c01a2",
   "metadata": {},
   "outputs": [],
   "source": []
  },
  {
   "cell_type": "code",
   "execution_count": null,
   "id": "432e34cb-5d50-4f36-829d-58b23d308280",
   "metadata": {},
   "outputs": [],
   "source": [
    "def average_sales_price():\n",
    "    \"\"\"Average Sales Price Per Year.\"\"\"\n",
    "    \n",
    "average_sales_price = sfo_neighborhoods_data[\"average_sales_price\"].groupby([sfo_neighborhoods_data.index]).mean()\n",
    "sales_price_fig = plt.figure()\n",
    "average_price_plot = (average_sales_price.plot.line(x='year', y='average_sales_price', title=\"Average Sales Price per Year\"))\n",
    "plt.close(sales_price_fig)\n",
    "    \n",
    "return pn.pane.Matplotlib(sales_price_fig)"
   ]
  },
  {
   "cell_type": "code",
   "execution_count": null,
   "id": "e1477098-3c15-4930-a465-28f8b8754a88",
   "metadata": {},
   "outputs": [],
   "source": []
  },
  {
   "cell_type": "code",
   "execution_count": null,
   "id": "85c07c19-cba7-4bcd-9357-381ae89e9da9",
   "metadata": {},
   "outputs": [],
   "source": [
    "def average_price_by_neighborhood():\n",
    "    \"\"\"Average Prices by Neighborhood.\"\"\"\n",
    "    \n",
    "average_price_by_neighborhood = sfo_neighborhoods_data.groupby([sfo_neighborhoods_data.index, \"neighborhood\"]).mean()\n",
    "sfo_sales = average_price_by_neighborhood[\"Neighborhood Average Price\"]\n",
    "sfo_sales_df = pd.DataFrame(sfo_sales).reset_index()\n",
    "     \n",
    "    \n",
    "return sfo_sales_df.loc[sfo_sales_df['neighborhood']==neighborhood,:].hvplot.line(\n",
    "    x=\"year\",\n",
    "    y=\"average_sales_price\",\n",
    "    colormap=\"coolwarm\",\n",
    "    title=\"San Fran Average Price by Neighborhood\",\n",
    ")\n"
   ]
  },
  {
   "cell_type": "code",
   "execution_count": null,
   "id": "4777bec5-a954-4f16-9a45-d53b71afb2ce",
   "metadata": {},
   "outputs": [],
   "source": []
  },
  {
   "cell_type": "code",
   "execution_count": null,
   "id": "a1366fca-fcd9-4497-b6b9-d6abf2d92d89",
   "metadata": {},
   "outputs": [],
   "source": [
    "def top_most_expensive_neighborhoods():\n",
    "    \"\"\"Top 10 Most Expensive Neighborhoods.\"\"\"\n",
    "\n",
    "    avg_value_per_neighborhood = sfo_neighborhoods_data.groupby([sfo_neighborhoods_data[\"neighborhood\"]]).mean()\n",
    "    avg_value_per_neighborhood = avg_value_per_neighborhood.reset_index()\n",
    "    top_10_most_expensive = avg_value_per_neighborhood.nlargest(10, 'sale_price_sqr_foot').reset_index()\n",
    "    top10_plot = px.bar(top_10_most_expensive,\n",
    "    x=\"neighborhood\", \n",
    "    y=\"average_sales_price\", \n",
    "    title=\"Top 10 Most Expensive Neighborhoods in San Francisco\", \n",
    "    )\n",
    "\n",
    "    return top10_plot"
   ]
  },
  {
   "cell_type": "code",
   "execution_count": null,
   "id": "d2a66927-0692-4af3-8220-b7ab7357f0de",
   "metadata": {},
   "outputs": [],
   "source": []
  },
  {
   "cell_type": "code",
   "execution_count": null,
   "id": "f2e474bc-35e4-4890-ad71-715ff2c3bcde",
   "metadata": {},
   "outputs": [],
   "source": [
    "def most_expensive_neighborhoods_rent_sales():\n",
    "    \"\"\"Comparison of Rent and Sales Prices of Most Expensive Neighborhoods.\"\"\"   \n",
    "    \n",
    "    # YOUR CODE HERE!"
   ]
  },
  {
   "cell_type": "code",
   "execution_count": null,
   "id": "62913dab-c68f-4768-bb54-c7aada0bb7dd",
   "metadata": {},
   "outputs": [],
   "source": []
  },
  {
   "cell_type": "code",
   "execution_count": null,
   "id": "e9c5a0f7-10b6-40bb-85b3-9b088e02062c",
   "metadata": {},
   "outputs": [],
   "source": [
    "def parallel_coordinates():\n",
    "    \"\"\"Parallel Coordinates Plot.\"\"\"\n",
    "\n",
    "    # YOUR CODE HERE!\n"
   ]
  },
  {
   "cell_type": "code",
   "execution_count": null,
   "id": "41be4f23-1451-4d98-b1e2-8d1939ba0cd4",
   "metadata": {},
   "outputs": [],
   "source": []
  },
  {
   "cell_type": "code",
   "execution_count": null,
   "id": "4a8b3abe-f197-4755-b00d-00d32bb89557",
   "metadata": {},
   "outputs": [],
   "source": [
    "def parallel_categories():\n",
    "    \"\"\"Parallel Categories Plot.\"\"\"\n",
    "    \n",
    "    # YOUR CODE HERE!"
   ]
  },
  {
   "cell_type": "code",
   "execution_count": null,
   "id": "0bb1ab88-b9be-4631-bd7d-fb05f624d7d1",
   "metadata": {},
   "outputs": [],
   "source": []
  },
  {
   "cell_type": "code",
   "execution_count": null,
   "id": "d33a0fdf-d49c-44de-ac0c-bf81e8adc365",
   "metadata": {},
   "outputs": [],
   "source": [
    "def neighborhood_map():\n",
    "    \"\"\"Neighborhood Map.\"\"\"\n",
    "\n",
    "    # YOUR CODE HERE!"
   ]
  },
  {
   "cell_type": "code",
   "execution_count": null,
   "id": "3fb0934f-99ad-41db-880b-dacd8c087d82",
   "metadata": {},
   "outputs": [],
   "source": []
  },
  {
   "cell_type": "code",
   "execution_count": null,
   "id": "56deca60-81ea-44b7-a538-fa0172323c6b",
   "metadata": {},
   "outputs": [],
   "source": [
    "def sunburst():\n",
    "    \"\"\"Sunburst Plot.\"\"\"\n",
    "    \n",
    "    # YOUR CODE HERE!"
   ]
  },
  {
   "cell_type": "code",
   "execution_count": null,
   "id": "64b53445-94bf-470f-86a0-86b1e9fa5dda",
   "metadata": {},
   "outputs": [],
   "source": []
  },
  {
   "cell_type": "code",
   "execution_count": null,
   "id": "15ebdd8c-1d45-4175-a9b7-2e6aa2679961",
   "metadata": {},
   "outputs": [],
   "source": [
    "##  Panel Dashboard"
   ]
  },
  {
   "cell_type": "code",
   "execution_count": null,
   "id": "2af837cb-91f7-453b-a056-05f1ca03721d",
   "metadata": {},
   "outputs": [],
   "source": [
    "# In this section, you will combine all of the plots into a single dashboard view using Panel. \n",
    "# Be creative with your dashboard design!"
   ]
  },
  {
   "cell_type": "code",
   "execution_count": null,
   "id": "8654518a-e1c3-4a55-9f91-1b1286177441",
   "metadata": {},
   "outputs": [],
   "source": []
  },
  {
   "cell_type": "code",
   "execution_count": null,
   "id": "9eefc370-ba02-4aef-87ef-9b244bede35f",
   "metadata": {},
   "outputs": [],
   "source": [
    " # Create a Title for the Dashboard\n",
    "title = 'San Francisco Real Estate 2010 - 2016'"
   ]
  },
  {
   "cell_type": "code",
   "execution_count": null,
   "id": "37555a5f-ae96-452e-9e44-26576ba8d2fe",
   "metadata": {},
   "outputs": [],
   "source": []
  },
  {
   "cell_type": "code",
   "execution_count": null,
   "id": "3a391799-357d-4876-95ea-2911572a6b77",
   "metadata": {},
   "outputs": [],
   "source": [
    "# Create a tab layout for the dashboard\n",
    "welcome_tab = pn.Row(pn.Column(title), neighborhood_map())\n"
   ]
  },
  {
   "cell_type": "code",
   "execution_count": null,
   "id": "1c7171fd-f2a4-413d-bbb0-4619ad8b8cb7",
   "metadata": {},
   "outputs": [],
   "source": [
    "market_analysis_row = pn.Row(housing_units_per_year(), average_gross_rent(), average_sales_price())"
   ]
  },
  {
   "cell_type": "code",
   "execution_count": null,
   "id": "30019bc5-376f-4dda-be27-87727a6d7efe",
   "metadata": {},
   "outputs": [],
   "source": [
    "neighborhood_analysis_tab = pn.Column(interact(average_price_by_neighborhood, neighborhood=neighborhood_choice),\n",
    "    top_most_expensive_neighborhoods())"
   ]
  },
  {
   "cell_type": "code",
   "execution_count": null,
   "id": "0f5a552d-2a7c-4ea2-ae4e-7e185747a0ff",
   "metadata": {},
   "outputs": [],
   "source": []
  },
  {
   "cell_type": "code",
   "execution_count": null,
   "id": "3391c2ff-f322-4088-93fb-edd064b0c195",
   "metadata": {},
   "outputs": [],
   "source": [
    "# Create the dashboard\n",
    "# YOUR CODE HERE!"
   ]
  },
  {
   "cell_type": "code",
   "execution_count": null,
   "id": "6a9ccc24-43e1-4709-a226-726b52ea03b0",
   "metadata": {},
   "outputs": [],
   "source": []
  },
  {
   "cell_type": "code",
   "execution_count": null,
   "id": "a2befd3f-c819-4dca-9d05-9fc67238a6e1",
   "metadata": {},
   "outputs": [],
   "source": [
    "# Serve the Panel Dashboard"
   ]
  },
  {
   "cell_type": "code",
   "execution_count": null,
   "id": "63e12201-c58f-45aa-b0bc-cf599988c4a7",
   "metadata": {},
   "outputs": [],
   "source": [
    " # Serve the# dashboard\n",
    "# YOUR CODE HERE!"
   ]
  },
  {
   "cell_type": "code",
   "execution_count": null,
   "id": "14af701d-87db-4779-800a-ac8def6346ca",
   "metadata": {},
   "outputs": [],
   "source": []
  },
  {
   "cell_type": "code",
   "execution_count": null,
   "id": "9038e8e2-db6a-438a-b59e-bb418dcfaa7d",
   "metadata": {},
   "outputs": [],
   "source": []
  },
  {
   "cell_type": "code",
   "execution_count": null,
   "id": "20e27c4b-7c3d-4893-af2b-d60d411d958b",
   "metadata": {},
   "outputs": [],
   "source": []
  },
  {
   "cell_type": "code",
   "execution_count": null,
   "id": "e44e5f62-4a9a-4130-a715-5e8ae31197a7",
   "metadata": {},
   "outputs": [],
   "source": []
  },
  {
   "cell_type": "code",
   "execution_count": null,
   "id": "9c74d85b-10d9-4e5e-8321-576108fc65d9",
   "metadata": {},
   "outputs": [],
   "source": []
  },
  {
   "cell_type": "code",
   "execution_count": null,
   "id": "a7668429-d03e-4740-bb9d-96923a1d7300",
   "metadata": {},
   "outputs": [],
   "source": []
  },
  {
   "cell_type": "code",
   "execution_count": null,
   "id": "aa5c3069-49a7-4059-acb9-cfe0fea77f62",
   "metadata": {},
   "outputs": [],
   "source": []
  }
 ],
 "metadata": {
  "kernelspec": {
   "display_name": "Python 3",
   "language": "python",
   "name": "python3"
  },
  "language_info": {
   "codemirror_mode": {
    "name": "ipython",
    "version": 3
   },
   "file_extension": ".py",
   "mimetype": "text/x-python",
   "name": "python",
   "nbconvert_exporter": "python",
   "pygments_lexer": "ipython3",
   "version": "3.8.8"
  }
 },
 "nbformat": 4,
 "nbformat_minor": 5
}
